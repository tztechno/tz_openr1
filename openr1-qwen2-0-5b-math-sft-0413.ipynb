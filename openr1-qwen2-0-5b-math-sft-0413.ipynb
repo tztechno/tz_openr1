{
 "cells": [
  {
   "cell_type": "markdown",
   "id": "f77d442a",
   "metadata": {
    "papermill": {
     "duration": 0.003095,
     "end_time": "2025-04-14T01:40:41.639496",
     "exception": false,
     "start_time": "2025-04-14T01:40:41.636401",
     "status": "completed"
    },
    "tags": []
   },
   "source": [
    "# OpenR1 Qwen2-0.5B-math-sft"
   ]
  },
  {
   "cell_type": "markdown",
   "id": "55cb43c9",
   "metadata": {
    "papermill": {
     "duration": 0.002265,
     "end_time": "2025-04-14T01:40:41.644512",
     "exception": false,
     "start_time": "2025-04-14T01:40:41.642247",
     "status": "completed"
    },
    "tags": []
   },
   "source": [
    "- gpu: T4*2\n",
    "- model: Qwen/Qwen2-0.5B\n",
    "- data: stpete2/openr1-math-part\n",
    "- method: sft\n",
    "- output: Qwen2-0.5B-math-sft"
   ]
  },
  {
   "cell_type": "markdown",
   "id": "c096f037",
   "metadata": {
    "papermill": {
     "duration": 0.002211,
     "end_time": "2025-04-14T01:40:41.649088",
     "exception": false,
     "start_time": "2025-04-14T01:40:41.646877",
     "status": "completed"
    },
    "tags": []
   },
   "source": [
    "## Open-R1 \n",
    "is an open initiative to replicate and extend the techniques behind DeepSeek-R1, a state-of-the-art reasoning model, in a fully transparent and collaborative way: \n",
    "\n",
    "https://github.com/huggingface/open-r1\n",
    "\n"
   ]
  },
  {
   "cell_type": "markdown",
   "id": "0bd6d4ba",
   "metadata": {
    "papermill": {
     "duration": 0.002423,
     "end_time": "2025-04-14T01:40:41.653859",
     "exception": false,
     "start_time": "2025-04-14T01:40:41.651436",
     "status": "completed"
    },
    "tags": []
   },
   "source": [
    "By selecting the model, dataset, and method, and running the training command from the command line, we were able to successfully perform training using the OpenR1 environment.\n",
    "\n",
    "Cconsidering the limitations of the notebook environment, I limited the model and data to a minimum. And the following techniques are used. \n",
    "\n",
    "* 1. Using LoRA (Low-Rank Adaptation)\n",
    "* 2. Gradient checkpointing\n",
    "* 3. Batching optimizations\n",
    "* 4. BF16 mixed precision\n",
    "* 5. Sequence length limit\n",
    "* 6. Data packing\n",
    "\n",
    "This setting is far from sufficient for effective training, but on the other hand, it allows us to check the operation of the method in a short time.\n",
    "\n",
    "This minimal configuration allows for rapid validation of the training pipeline even with limited resources, and is a useful starting point before scaling up to larger experiments."
   ]
  },
  {
   "cell_type": "markdown",
   "id": "2cc0718e",
   "metadata": {
    "papermill": {
     "duration": 0.002199,
     "end_time": "2025-04-14T01:40:41.658419",
     "exception": false,
     "start_time": "2025-04-14T01:40:41.656220",
     "status": "completed"
    },
    "tags": []
   },
   "source": [
    "\n"
   ]
  },
  {
   "cell_type": "code",
   "execution_count": 1,
   "id": "e234117e",
   "metadata": {
    "execution": {
     "iopub.execute_input": "2025-04-14T01:40:41.664158Z",
     "iopub.status.busy": "2025-04-14T01:40:41.663831Z",
     "iopub.status.idle": "2025-04-14T01:40:46.862715Z",
     "shell.execute_reply": "2025-04-14T01:40:46.861904Z"
    },
    "papermill": {
     "duration": 5.203525,
     "end_time": "2025-04-14T01:40:46.864288",
     "exception": false,
     "start_time": "2025-04-14T01:40:41.660763",
     "status": "completed"
    },
    "tags": []
   },
   "outputs": [
    {
     "name": "stderr",
     "output_type": "stream",
     "text": [
      "\u001b[34m\u001b[1mwandb\u001b[0m: Using wandb-core as the SDK backend.  Please refer to https://wandb.me/wandb-core for more information.\n",
      "\u001b[34m\u001b[1mwandb\u001b[0m: Currently logged in as: \u001b[33mstpeteishii\u001b[0m. Use \u001b[1m`wandb login --relogin`\u001b[0m to force relogin\n",
      "\u001b[34m\u001b[1mwandb\u001b[0m: \u001b[33mWARNING\u001b[0m If you're specifying your api key in code, ensure this code is not shared publicly.\n",
      "\u001b[34m\u001b[1mwandb\u001b[0m: \u001b[33mWARNING\u001b[0m Consider setting the WANDB_API_KEY environment variable, or running `wandb login` from the command line.\n",
      "\u001b[34m\u001b[1mwandb\u001b[0m: Appending key for api.wandb.ai to your netrc file: /root/.netrc\n",
      "\u001b[34m\u001b[1mwandb\u001b[0m: \u001b[33mWARNING\u001b[0m Changes to your `wandb` environment variables will be ignored because your `wandb` session has already started. For more information on how to modify your settings with `wandb.init()` arguments, please refer to \u001b[34m\u001b[4mhttps://wandb.me/wandb-init\u001b[0m.\n",
      "\u001b[34m\u001b[1mwandb\u001b[0m: Tracking run with wandb version 0.19.1\n",
      "\u001b[34m\u001b[1mwandb\u001b[0m: Run data is saved locally in \u001b[35m\u001b[1m/kaggle/working/wandb/run-20250414_014044-dbeve63o\u001b[0m\n",
      "\u001b[34m\u001b[1mwandb\u001b[0m: Run \u001b[1m`wandb offline`\u001b[0m to turn off syncing.\n",
      "\u001b[34m\u001b[1mwandb\u001b[0m: Syncing run \u001b[33mfearless-lion-7\u001b[0m\n",
      "\u001b[34m\u001b[1mwandb\u001b[0m: ⭐️ View project at \u001b[34m\u001b[4mhttps://wandb.ai/stpeteishii/250413or\u001b[0m\n",
      "\u001b[34m\u001b[1mwandb\u001b[0m: 🚀 View run at \u001b[34m\u001b[4mhttps://wandb.ai/stpeteishii/250413or/runs/dbeve63o\u001b[0m\n"
     ]
    },
    {
     "data": {
      "text/html": [
       "<button onClick=\"this.nextSibling.style.display='block';this.style.display='none';\">Display W&B run</button><iframe src='https://wandb.ai/stpeteishii/250413or/runs/dbeve63o?jupyter=true' style='border:none;width:100%;height:420px;display:none;'></iframe>"
      ],
      "text/plain": [
       "<wandb.sdk.wandb_run.Run at 0x7a22424137f0>"
      ]
     },
     "execution_count": 1,
     "metadata": {},
     "output_type": "execute_result"
    }
   ],
   "source": [
    "from kaggle_secrets import UserSecretsClient\n",
    "import wandb\n",
    "user_secrets = UserSecretsClient()\n",
    "secret_value = user_secrets.get_secret(\"wandb_api_key\")\n",
    "wandb.login(key=secret_value)\n",
    "\n",
    "# save metrics into wandb folder\n",
    "import os\n",
    "os.environ[\"WANDB_DIR\"] = \"./wandb\"\n",
    "wandb.init(project=\"250413or\", mode=\"online\")"
   ]
  },
  {
   "cell_type": "code",
   "execution_count": 2,
   "id": "00453c0d",
   "metadata": {
    "_cell_guid": "c938dd8b-8728-417e-b2b8-e5ea9a6531cb",
    "_kg_hide-output": true,
    "_uuid": "56441817-9a26-48a8-9e2a-20d0519b1368",
    "collapsed": false,
    "execution": {
     "iopub.execute_input": "2025-04-14T01:40:46.871602Z",
     "iopub.status.busy": "2025-04-14T01:40:46.871352Z",
     "iopub.status.idle": "2025-04-14T01:41:51.434524Z",
     "shell.execute_reply": "2025-04-14T01:41:51.433423Z"
    },
    "jupyter": {
     "outputs_hidden": false
    },
    "papermill": {
     "duration": 64.568469,
     "end_time": "2025-04-14T01:41:51.436142",
     "exception": false,
     "start_time": "2025-04-14T01:40:46.867673",
     "status": "completed"
    },
    "tags": []
   },
   "outputs": [
    {
     "name": "stdout",
     "output_type": "stream",
     "text": [
      "Cloning into 'open-r1'...\r\n",
      "remote: Enumerating objects: 2985, done.\u001b[K\r\n",
      "remote: Counting objects: 100% (300/300), done.\u001b[K\r\n",
      "remote: Compressing objects: 100% (126/126), done.\u001b[K\r\n",
      "remote: Total 2985 (delta 266), reused 174 (delta 174), pack-reused 2685 (from 3)\u001b[K\r\n",
      "Receiving objects: 100% (2985/2985), 1.25 MiB | 9.31 MiB/s, done.\r\n",
      "Resolving deltas: 100% (1689/1689), done.\r\n",
      "Obtaining file:///kaggle/working/open-r1\r\n",
      "  Preparing metadata (setup.py) ... \u001b[?25l\u001b[?25hdone\r\n",
      "Collecting trl@ git+https://github.com/huggingface/trl.git@d625c5533a6b1c84d3565c8080857f6bb81c538a (from open-r1==0.1.0.dev0)\r\n",
      "  Cloning https://github.com/huggingface/trl.git (to revision d625c5533a6b1c84d3565c8080857f6bb81c538a) to /tmp/pip-install-sx0zphp5/trl_6946923d46ba4341a0e5c5e4e5c4d2dd\r\n",
      "  Running command git clone --filter=blob:none --quiet https://github.com/huggingface/trl.git /tmp/pip-install-sx0zphp5/trl_6946923d46ba4341a0e5c5e4e5c4d2dd\r\n",
      "  Running command git rev-parse -q --verify 'sha^d625c5533a6b1c84d3565c8080857f6bb81c538a'\r\n",
      "  Running command git fetch -q https://github.com/huggingface/trl.git d625c5533a6b1c84d3565c8080857f6bb81c538a\r\n",
      "  Resolved https://github.com/huggingface/trl.git to commit d625c5533a6b1c84d3565c8080857f6bb81c538a\r\n",
      "  Installing build dependencies ... \u001b[?25l\u001b[?25hdone\r\n",
      "  Getting requirements to build wheel ... \u001b[?25l\u001b[?25hdone\r\n",
      "  Preparing metadata (pyproject.toml) ... \u001b[?25l\u001b[?25hdone\r\n",
      "Collecting accelerate==1.4.0 (from open-r1==0.1.0.dev0)\r\n",
      "  Downloading accelerate-1.4.0-py3-none-any.whl.metadata (19 kB)\r\n",
      "Collecting bitsandbytes>=0.43.0 (from open-r1==0.1.0.dev0)\r\n",
      "  Downloading bitsandbytes-0.45.5-py3-none-manylinux_2_24_x86_64.whl.metadata (5.0 kB)\r\n",
      "Requirement already satisfied: einops>=0.8.0 in /usr/local/lib/python3.10/dist-packages (from open-r1==0.1.0.dev0) (0.8.0)\r\n",
      "Requirement already satisfied: datasets>=3.2.0 in /usr/local/lib/python3.10/dist-packages (from open-r1==0.1.0.dev0) (3.3.1)\r\n",
      "Collecting deepspeed==0.15.4 (from open-r1==0.1.0.dev0)\r\n",
      "  Downloading deepspeed-0.15.4.tar.gz (1.4 MB)\r\n",
      "\u001b[2K     \u001b[90m━━━━━━━━━━━━━━━━━━━━━━━━━━━━━━━━━━━━━━━━\u001b[0m \u001b[32m1.4/1.4 MB\u001b[0m \u001b[31m18.9 MB/s\u001b[0m eta \u001b[36m0:00:00\u001b[0m\r\n",
      "\u001b[?25h  Preparing metadata (setup.py) ... \u001b[?25l\u001b[?25hdone\r\n",
      "Requirement already satisfied: hf_transfer>=0.1.4 in /usr/local/lib/python3.10/dist-packages (from open-r1==0.1.0.dev0) (0.1.9)\r\n",
      "Requirement already satisfied: huggingface-hub<1.0,>=0.19.2 in /usr/local/lib/python3.10/dist-packages (from huggingface-hub[cli,hf_xet]<1.0,>=0.19.2->open-r1==0.1.0.dev0) (0.29.0)\r\n",
      "Collecting langdetect (from open-r1==0.1.0.dev0)\r\n",
      "  Downloading langdetect-1.0.9.tar.gz (981 kB)\r\n",
      "\u001b[2K     \u001b[90m━━━━━━━━━━━━━━━━━━━━━━━━━━━━━━━━━━━━━━━━\u001b[0m \u001b[32m981.5/981.5 kB\u001b[0m \u001b[31m42.6 MB/s\u001b[0m eta \u001b[36m0:00:00\u001b[0m\r\n",
      "\u001b[?25h  Preparing metadata (setup.py) ... \u001b[?25l\u001b[?25hdone\r\n",
      "Collecting latex2sympy2_extended>=1.0.6 (from open-r1==0.1.0.dev0)\r\n",
      "  Downloading latex2sympy2_extended-1.10.1-py3-none-any.whl.metadata (5.3 kB)\r\n",
      "Collecting math-verify==0.5.2 (from open-r1==0.1.0.dev0)\r\n",
      "  Downloading math_verify-0.5.2-py3-none-any.whl.metadata (347 bytes)\r\n",
      "Collecting liger-kernel>=0.5.6 (from open-r1==0.1.0.dev0)\r\n",
      "  Downloading liger_kernel-0.5.8-py3-none-any.whl.metadata (23 kB)\r\n",
      "Requirement already satisfied: packaging>=23.0 in /usr/local/lib/python3.10/dist-packages (from open-r1==0.1.0.dev0) (24.2)\r\n",
      "Requirement already satisfied: safetensors>=0.3.3 in /usr/local/lib/python3.10/dist-packages (from open-r1==0.1.0.dev0) (0.4.5)\r\n",
      "Requirement already satisfied: sentencepiece>=0.1.99 in /usr/local/lib/python3.10/dist-packages (from open-r1==0.1.0.dev0) (0.2.0)\r\n",
      "Collecting transformers==4.51.2 (from open-r1==0.1.0.dev0)\r\n",
      "  Downloading transformers-4.51.2-py3-none-any.whl.metadata (38 kB)\r\n",
      "Requirement already satisfied: wandb>=0.19.1 in /usr/local/lib/python3.10/dist-packages (from open-r1==0.1.0.dev0) (0.19.1)\r\n",
      "Requirement already satisfied: numpy<3.0.0,>=1.17 in /usr/local/lib/python3.10/dist-packages (from accelerate==1.4.0->open-r1==0.1.0.dev0) (1.26.4)\r\n",
      "Requirement already satisfied: psutil in /usr/local/lib/python3.10/dist-packages (from accelerate==1.4.0->open-r1==0.1.0.dev0) (5.9.5)\r\n",
      "Requirement already satisfied: pyyaml in /usr/local/lib/python3.10/dist-packages (from accelerate==1.4.0->open-r1==0.1.0.dev0) (6.0.2)\r\n",
      "Requirement already satisfied: torch>=2.0.0 in /usr/local/lib/python3.10/dist-packages (from accelerate==1.4.0->open-r1==0.1.0.dev0) (2.5.1+cu121)\r\n",
      "Collecting hjson (from deepspeed==0.15.4->open-r1==0.1.0.dev0)\r\n",
      "  Downloading hjson-3.1.0-py3-none-any.whl.metadata (2.6 kB)\r\n",
      "Requirement already satisfied: msgpack in /usr/local/lib/python3.10/dist-packages (from deepspeed==0.15.4->open-r1==0.1.0.dev0) (1.1.0)\r\n",
      "Requirement already satisfied: ninja in /usr/local/lib/python3.10/dist-packages (from deepspeed==0.15.4->open-r1==0.1.0.dev0) (1.11.1.3)\r\n",
      "Requirement already satisfied: py-cpuinfo in /usr/local/lib/python3.10/dist-packages (from deepspeed==0.15.4->open-r1==0.1.0.dev0) (9.0.0)\r\n",
      "Requirement already satisfied: pydantic>=2.0.0 in /usr/local/lib/python3.10/dist-packages (from deepspeed==0.15.4->open-r1==0.1.0.dev0) (2.11.0a2)\r\n",
      "Requirement already satisfied: tqdm in /usr/local/lib/python3.10/dist-packages (from deepspeed==0.15.4->open-r1==0.1.0.dev0) (4.67.1)\r\n",
      "Requirement already satisfied: nvidia-ml-py in /usr/local/lib/python3.10/dist-packages (from deepspeed==0.15.4->open-r1==0.1.0.dev0) (12.570.86)\r\n",
      "Collecting latex2sympy2_extended>=1.0.6 (from open-r1==0.1.0.dev0)\r\n",
      "  Downloading latex2sympy2_extended-1.0.6-py3-none-any.whl.metadata (4.9 kB)\r\n",
      "Collecting antlr4-python3-runtime==4.13.2 (from latex2sympy2_extended>=1.0.6->open-r1==0.1.0.dev0)\r\n",
      "  Downloading antlr4_python3_runtime-4.13.2-py3-none-any.whl.metadata (304 bytes)\r\n",
      "Requirement already satisfied: sympy in /usr/local/lib/python3.10/dist-packages (from latex2sympy2_extended>=1.0.6->open-r1==0.1.0.dev0) (1.13.1)\r\n",
      "Requirement already satisfied: filelock in /usr/local/lib/python3.10/dist-packages (from transformers==4.51.2->open-r1==0.1.0.dev0) (3.17.0)\r\n",
      "Collecting huggingface-hub<1.0,>=0.19.2 (from huggingface-hub[cli,hf_xet]<1.0,>=0.19.2->open-r1==0.1.0.dev0)\r\n",
      "  Downloading huggingface_hub-0.30.2-py3-none-any.whl.metadata (13 kB)\r\n",
      "Requirement already satisfied: regex!=2019.12.17 in /usr/local/lib/python3.10/dist-packages (from transformers==4.51.2->open-r1==0.1.0.dev0) (2024.11.6)\r\n",
      "Requirement already satisfied: requests in /usr/local/lib/python3.10/dist-packages (from transformers==4.51.2->open-r1==0.1.0.dev0) (2.32.3)\r\n",
      "Requirement already satisfied: tokenizers<0.22,>=0.21 in /usr/local/lib/python3.10/dist-packages (from transformers==4.51.2->open-r1==0.1.0.dev0) (0.21.0)\r\n",
      "Requirement already satisfied: pyarrow>=15.0.0 in /usr/local/lib/python3.10/dist-packages (from datasets>=3.2.0->open-r1==0.1.0.dev0) (19.0.1)\r\n",
      "Requirement already satisfied: dill<0.3.9,>=0.3.0 in /usr/local/lib/python3.10/dist-packages (from datasets>=3.2.0->open-r1==0.1.0.dev0) (0.3.8)\r\n",
      "Requirement already satisfied: pandas in /usr/local/lib/python3.10/dist-packages (from datasets>=3.2.0->open-r1==0.1.0.dev0) (2.2.3)\r\n",
      "Requirement already satisfied: xxhash in /usr/local/lib/python3.10/dist-packages (from datasets>=3.2.0->open-r1==0.1.0.dev0) (3.5.0)\r\n",
      "Requirement already satisfied: multiprocess<0.70.17 in /usr/local/lib/python3.10/dist-packages (from datasets>=3.2.0->open-r1==0.1.0.dev0) (0.70.16)\r\n",
      "Requirement already satisfied: fsspec<=2024.12.0,>=2023.1.0 in /usr/local/lib/python3.10/dist-packages (from fsspec[http]<=2024.12.0,>=2023.1.0->datasets>=3.2.0->open-r1==0.1.0.dev0) (2024.12.0)\r\n",
      "Requirement already satisfied: aiohttp in /usr/local/lib/python3.10/dist-packages (from datasets>=3.2.0->open-r1==0.1.0.dev0) (3.11.12)\r\n",
      "Requirement already satisfied: typing-extensions>=3.7.4.3 in /usr/local/lib/python3.10/dist-packages (from huggingface-hub<1.0,>=0.19.2->huggingface-hub[cli,hf_xet]<1.0,>=0.19.2->open-r1==0.1.0.dev0) (4.12.2)\r\n",
      "\u001b[33mWARNING: huggingface-hub 0.29.0 does not provide the extra 'hf-xet'\u001b[0m\u001b[33m\r\n",
      "\u001b[0mINFO: pip is looking at multiple versions of huggingface-hub[cli,hf-xet] to determine which version is compatible with other requirements. This could take a while.\r\n",
      "Collecting hf-xet>=0.1.4 (from huggingface-hub[cli,hf_xet]<1.0,>=0.19.2->open-r1==0.1.0.dev0)\r\n",
      "  Downloading hf_xet-1.0.3-cp37-abi3-manylinux_2_17_x86_64.manylinux2014_x86_64.whl.metadata (494 bytes)\r\n",
      "Collecting InquirerPy==0.3.4 (from huggingface-hub[cli,hf_xet]<1.0,>=0.19.2->open-r1==0.1.0.dev0)\r\n",
      "  Downloading InquirerPy-0.3.4-py3-none-any.whl.metadata (8.1 kB)\r\n",
      "Collecting pfzy<0.4.0,>=0.3.1 (from InquirerPy==0.3.4->huggingface-hub[cli,hf_xet]<1.0,>=0.19.2->open-r1==0.1.0.dev0)\r\n",
      "  Downloading pfzy-0.3.4-py3-none-any.whl.metadata (4.9 kB)\r\n",
      "Requirement already satisfied: prompt-toolkit<4.0.0,>=3.0.1 in /usr/local/lib/python3.10/dist-packages (from InquirerPy==0.3.4->huggingface-hub[cli,hf_xet]<1.0,>=0.19.2->open-r1==0.1.0.dev0) (3.0.48)\r\n",
      "Collecting triton>=2.3.1 (from liger-kernel>=0.5.6->open-r1==0.1.0.dev0)\r\n",
      "  Downloading triton-3.3.0-cp310-cp310-manylinux_2_27_x86_64.manylinux_2_28_x86_64.whl.metadata (1.5 kB)\r\n",
      "Requirement already satisfied: click!=8.0.0,>=7.1 in /usr/local/lib/python3.10/dist-packages (from wandb>=0.19.1->open-r1==0.1.0.dev0) (8.1.7)\r\n",
      "Requirement already satisfied: docker-pycreds>=0.4.0 in /usr/local/lib/python3.10/dist-packages (from wandb>=0.19.1->open-r1==0.1.0.dev0) (0.4.0)\r\n",
      "Requirement already satisfied: gitpython!=3.1.29,>=1.0.0 in /usr/local/lib/python3.10/dist-packages (from wandb>=0.19.1->open-r1==0.1.0.dev0) (3.1.43)\r\n",
      "Requirement already satisfied: platformdirs in /usr/local/lib/python3.10/dist-packages (from wandb>=0.19.1->open-r1==0.1.0.dev0) (4.3.6)\r\n",
      "Requirement already satisfied: protobuf!=4.21.0,!=5.28.0,<6,>=3.19.0 in /usr/local/lib/python3.10/dist-packages (from wandb>=0.19.1->open-r1==0.1.0.dev0) (3.20.3)\r\n",
      "Requirement already satisfied: sentry-sdk>=2.0.0 in /usr/local/lib/python3.10/dist-packages (from wandb>=0.19.1->open-r1==0.1.0.dev0) (2.19.2)\r\n",
      "Requirement already satisfied: setproctitle in /usr/local/lib/python3.10/dist-packages (from wandb>=0.19.1->open-r1==0.1.0.dev0) (1.3.4)\r\n",
      "Requirement already satisfied: setuptools in /usr/local/lib/python3.10/dist-packages (from wandb>=0.19.1->open-r1==0.1.0.dev0) (75.1.0)\r\n",
      "Requirement already satisfied: six in /usr/local/lib/python3.10/dist-packages (from langdetect->open-r1==0.1.0.dev0) (1.17.0)\r\n",
      "Requirement already satisfied: rich in /usr/local/lib/python3.10/dist-packages (from trl@ git+https://github.com/huggingface/trl.git@d625c5533a6b1c84d3565c8080857f6bb81c538a->open-r1==0.1.0.dev0) (13.9.4)\r\n",
      "Requirement already satisfied: aiohappyeyeballs>=2.3.0 in /usr/local/lib/python3.10/dist-packages (from aiohttp->datasets>=3.2.0->open-r1==0.1.0.dev0) (2.4.6)\r\n",
      "Requirement already satisfied: aiosignal>=1.1.2 in /usr/local/lib/python3.10/dist-packages (from aiohttp->datasets>=3.2.0->open-r1==0.1.0.dev0) (1.3.2)\r\n",
      "Requirement already satisfied: async-timeout<6.0,>=4.0 in /usr/local/lib/python3.10/dist-packages (from aiohttp->datasets>=3.2.0->open-r1==0.1.0.dev0) (5.0.1)\r\n",
      "Requirement already satisfied: attrs>=17.3.0 in /usr/local/lib/python3.10/dist-packages (from aiohttp->datasets>=3.2.0->open-r1==0.1.0.dev0) (25.1.0)\r\n",
      "Requirement already satisfied: frozenlist>=1.1.1 in /usr/local/lib/python3.10/dist-packages (from aiohttp->datasets>=3.2.0->open-r1==0.1.0.dev0) (1.5.0)\r\n",
      "Requirement already satisfied: multidict<7.0,>=4.5 in /usr/local/lib/python3.10/dist-packages (from aiohttp->datasets>=3.2.0->open-r1==0.1.0.dev0) (6.1.0)\r\n",
      "Requirement already satisfied: propcache>=0.2.0 in /usr/local/lib/python3.10/dist-packages (from aiohttp->datasets>=3.2.0->open-r1==0.1.0.dev0) (0.2.1)\r\n",
      "Requirement already satisfied: yarl<2.0,>=1.17.0 in /usr/local/lib/python3.10/dist-packages (from aiohttp->datasets>=3.2.0->open-r1==0.1.0.dev0) (1.18.3)\r\n",
      "Requirement already satisfied: gitdb<5,>=4.0.1 in /usr/local/lib/python3.10/dist-packages (from gitpython!=3.1.29,>=1.0.0->wandb>=0.19.1->open-r1==0.1.0.dev0) (4.0.11)\r\n",
      "Requirement already satisfied: mkl_fft in /usr/local/lib/python3.10/dist-packages (from numpy<3.0.0,>=1.17->accelerate==1.4.0->open-r1==0.1.0.dev0) (1.3.8)\r\n",
      "Requirement already satisfied: mkl_random in /usr/local/lib/python3.10/dist-packages (from numpy<3.0.0,>=1.17->accelerate==1.4.0->open-r1==0.1.0.dev0) (1.2.4)\r\n",
      "Requirement already satisfied: mkl_umath in /usr/local/lib/python3.10/dist-packages (from numpy<3.0.0,>=1.17->accelerate==1.4.0->open-r1==0.1.0.dev0) (0.1.1)\r\n",
      "Requirement already satisfied: mkl in /usr/local/lib/python3.10/dist-packages (from numpy<3.0.0,>=1.17->accelerate==1.4.0->open-r1==0.1.0.dev0) (2025.0.1)\r\n",
      "Requirement already satisfied: tbb4py in /usr/local/lib/python3.10/dist-packages (from numpy<3.0.0,>=1.17->accelerate==1.4.0->open-r1==0.1.0.dev0) (2022.0.0)\r\n",
      "Requirement already satisfied: mkl-service in /usr/local/lib/python3.10/dist-packages (from numpy<3.0.0,>=1.17->accelerate==1.4.0->open-r1==0.1.0.dev0) (2.4.1)\r\n",
      "Requirement already satisfied: annotated-types>=0.6.0 in /usr/local/lib/python3.10/dist-packages (from pydantic>=2.0.0->deepspeed==0.15.4->open-r1==0.1.0.dev0) (0.7.0)\r\n",
      "Requirement already satisfied: pydantic-core==2.29.0 in /usr/local/lib/python3.10/dist-packages (from pydantic>=2.0.0->deepspeed==0.15.4->open-r1==0.1.0.dev0) (2.29.0)\r\n",
      "Requirement already satisfied: charset-normalizer<4,>=2 in /usr/local/lib/python3.10/dist-packages (from requests->transformers==4.51.2->open-r1==0.1.0.dev0) (3.4.1)\r\n",
      "Requirement already satisfied: idna<4,>=2.5 in /usr/local/lib/python3.10/dist-packages (from requests->transformers==4.51.2->open-r1==0.1.0.dev0) (3.10)\r\n",
      "Requirement already satisfied: urllib3<3,>=1.21.1 in /usr/local/lib/python3.10/dist-packages (from requests->transformers==4.51.2->open-r1==0.1.0.dev0) (2.3.0)\r\n",
      "Requirement already satisfied: certifi>=2017.4.17 in /usr/local/lib/python3.10/dist-packages (from requests->transformers==4.51.2->open-r1==0.1.0.dev0) (2025.1.31)\r\n",
      "Requirement already satisfied: networkx in /usr/local/lib/python3.10/dist-packages (from torch>=2.0.0->accelerate==1.4.0->open-r1==0.1.0.dev0) (3.4.2)\r\n",
      "Requirement already satisfied: jinja2 in /usr/local/lib/python3.10/dist-packages (from torch>=2.0.0->accelerate==1.4.0->open-r1==0.1.0.dev0) (3.1.4)\r\n",
      "Requirement already satisfied: mpmath<1.4,>=1.1.0 in /usr/local/lib/python3.10/dist-packages (from sympy->latex2sympy2_extended>=1.0.6->open-r1==0.1.0.dev0) (1.3.0)\r\n",
      "Requirement already satisfied: python-dateutil>=2.8.2 in /usr/local/lib/python3.10/dist-packages (from pandas->datasets>=3.2.0->open-r1==0.1.0.dev0) (2.9.0.post0)\r\n",
      "Requirement already satisfied: pytz>=2020.1 in /usr/local/lib/python3.10/dist-packages (from pandas->datasets>=3.2.0->open-r1==0.1.0.dev0) (2025.1)\r\n",
      "Requirement already satisfied: tzdata>=2022.7 in /usr/local/lib/python3.10/dist-packages (from pandas->datasets>=3.2.0->open-r1==0.1.0.dev0) (2025.1)\r\n",
      "Requirement already satisfied: markdown-it-py>=2.2.0 in /usr/local/lib/python3.10/dist-packages (from rich->trl@ git+https://github.com/huggingface/trl.git@d625c5533a6b1c84d3565c8080857f6bb81c538a->open-r1==0.1.0.dev0) (3.0.0)\r\n",
      "Requirement already satisfied: pygments<3.0.0,>=2.13.0 in /usr/local/lib/python3.10/dist-packages (from rich->trl@ git+https://github.com/huggingface/trl.git@d625c5533a6b1c84d3565c8080857f6bb81c538a->open-r1==0.1.0.dev0) (2.19.1)\r\n",
      "Requirement already satisfied: smmap<6,>=3.0.1 in /usr/local/lib/python3.10/dist-packages (from gitdb<5,>=4.0.1->gitpython!=3.1.29,>=1.0.0->wandb>=0.19.1->open-r1==0.1.0.dev0) (5.0.1)\r\n",
      "Requirement already satisfied: mdurl~=0.1 in /usr/local/lib/python3.10/dist-packages (from markdown-it-py>=2.2.0->rich->trl@ git+https://github.com/huggingface/trl.git@d625c5533a6b1c84d3565c8080857f6bb81c538a->open-r1==0.1.0.dev0) (0.1.2)\r\n",
      "Requirement already satisfied: wcwidth in /usr/local/lib/python3.10/dist-packages (from prompt-toolkit<4.0.0,>=3.0.1->InquirerPy==0.3.4->huggingface-hub[cli,hf_xet]<1.0,>=0.19.2->open-r1==0.1.0.dev0) (0.2.13)\r\n",
      "Requirement already satisfied: MarkupSafe>=2.0 in /usr/local/lib/python3.10/dist-packages (from jinja2->torch>=2.0.0->accelerate==1.4.0->open-r1==0.1.0.dev0) (3.0.2)\r\n",
      "Requirement already satisfied: intel-openmp>=2024 in /usr/local/lib/python3.10/dist-packages (from mkl->numpy<3.0.0,>=1.17->accelerate==1.4.0->open-r1==0.1.0.dev0) (2024.2.0)\r\n",
      "Requirement already satisfied: tbb==2022.* in /usr/local/lib/python3.10/dist-packages (from mkl->numpy<3.0.0,>=1.17->accelerate==1.4.0->open-r1==0.1.0.dev0) (2022.0.0)\r\n",
      "Requirement already satisfied: tcmlib==1.* in /usr/local/lib/python3.10/dist-packages (from tbb==2022.*->mkl->numpy<3.0.0,>=1.17->accelerate==1.4.0->open-r1==0.1.0.dev0) (1.2.0)\r\n",
      "Requirement already satisfied: intel-cmplr-lib-rt in /usr/local/lib/python3.10/dist-packages (from mkl_umath->numpy<3.0.0,>=1.17->accelerate==1.4.0->open-r1==0.1.0.dev0) (2024.2.0)\r\n",
      "Requirement already satisfied: intel-cmplr-lib-ur==2024.2.0 in /usr/local/lib/python3.10/dist-packages (from intel-openmp>=2024->mkl->numpy<3.0.0,>=1.17->accelerate==1.4.0->open-r1==0.1.0.dev0) (2024.2.0)\r\n",
      "Downloading accelerate-1.4.0-py3-none-any.whl (342 kB)\r\n",
      "\u001b[2K   \u001b[90m━━━━━━━━━━━━━━━━━━━━━━━━━━━━━━━━━━━━━━━━\u001b[0m \u001b[32m342.1/342.1 kB\u001b[0m \u001b[31m20.8 MB/s\u001b[0m eta \u001b[36m0:00:00\u001b[0m\r\n",
      "\u001b[?25hDownloading math_verify-0.5.2-py3-none-any.whl (27 kB)\r\n",
      "Downloading latex2sympy2_extended-1.0.6-py3-none-any.whl (82 kB)\r\n",
      "\u001b[2K   \u001b[90m━━━━━━━━━━━━━━━━━━━━━━━━━━━━━━━━━━━━━━━━\u001b[0m \u001b[32m82.0/82.0 kB\u001b[0m \u001b[31m5.8 MB/s\u001b[0m eta \u001b[36m0:00:00\u001b[0m\r\n",
      "\u001b[?25hDownloading transformers-4.51.2-py3-none-any.whl (10.4 MB)\r\n",
      "\u001b[2K   \u001b[90m━━━━━━━━━━━━━━━━━━━━━━━━━━━━━━━━━━━━━━━━\u001b[0m \u001b[32m10.4/10.4 MB\u001b[0m \u001b[31m84.0 MB/s\u001b[0m eta \u001b[36m0:00:00\u001b[0m\r\n",
      "\u001b[?25hDownloading antlr4_python3_runtime-4.13.2-py3-none-any.whl (144 kB)\r\n",
      "\u001b[2K   \u001b[90m━━━━━━━━━━━━━━━━━━━━━━━━━━━━━━━━━━━━━━━━\u001b[0m \u001b[32m144.5/144.5 kB\u001b[0m \u001b[31m10.1 MB/s\u001b[0m eta \u001b[36m0:00:00\u001b[0m\r\n",
      "\u001b[?25hDownloading bitsandbytes-0.45.5-py3-none-manylinux_2_24_x86_64.whl (76.1 MB)\r\n",
      "\u001b[2K   \u001b[90m━━━━━━━━━━━━━━━━━━━━━━━━━━━━━━━━━━━━━━━━\u001b[0m \u001b[32m76.1/76.1 MB\u001b[0m \u001b[31m22.0 MB/s\u001b[0m eta \u001b[36m0:00:00\u001b[0m\r\n",
      "\u001b[?25hDownloading huggingface_hub-0.30.2-py3-none-any.whl (481 kB)\r\n",
      "\u001b[2K   \u001b[90m━━━━━━━━━━━━━━━━━━━━━━━━━━━━━━━━━━━━━━━━\u001b[0m \u001b[32m481.4/481.4 kB\u001b[0m \u001b[31m26.7 MB/s\u001b[0m eta \u001b[36m0:00:00\u001b[0m\r\n",
      "\u001b[?25hDownloading InquirerPy-0.3.4-py3-none-any.whl (67 kB)\r\n",
      "\u001b[2K   \u001b[90m━━━━━━━━━━━━━━━━━━━━━━━━━━━━━━━━━━━━━━━━\u001b[0m \u001b[32m67.7/67.7 kB\u001b[0m \u001b[31m4.2 MB/s\u001b[0m eta \u001b[36m0:00:00\u001b[0m\r\n",
      "\u001b[?25hDownloading liger_kernel-0.5.8-py3-none-any.whl (150 kB)\r\n",
      "\u001b[2K   \u001b[90m━━━━━━━━━━━━━━━━━━━━━━━━━━━━━━━━━━━━━━━━\u001b[0m \u001b[32m150.8/150.8 kB\u001b[0m \u001b[31m9.3 MB/s\u001b[0m eta \u001b[36m0:00:00\u001b[0m\r\n",
      "\u001b[?25hDownloading hf_xet-1.0.3-cp37-abi3-manylinux_2_17_x86_64.manylinux2014_x86_64.whl (53.8 MB)\r\n",
      "\u001b[2K   \u001b[90m━━━━━━━━━━━━━━━━━━━━━━━━━━━━━━━━━━━━━━━━\u001b[0m \u001b[32m53.8/53.8 MB\u001b[0m \u001b[31m32.0 MB/s\u001b[0m eta \u001b[36m0:00:00\u001b[0m\r\n",
      "\u001b[?25hDownloading triton-3.3.0-cp310-cp310-manylinux_2_27_x86_64.manylinux_2_28_x86_64.whl (156.4 MB)\r\n",
      "\u001b[2K   \u001b[90m━━━━━━━━━━━━━━━━━━━━━━━━━━━━━━━━━━━━━━━━\u001b[0m \u001b[32m156.4/156.4 MB\u001b[0m \u001b[31m10.8 MB/s\u001b[0m eta \u001b[36m0:00:00\u001b[0m\r\n",
      "\u001b[?25hDownloading hjson-3.1.0-py3-none-any.whl (54 kB)\r\n",
      "\u001b[2K   \u001b[90m━━━━━━━━━━━━━━━━━━━━━━━━━━━━━━━━━━━━━━━━\u001b[0m \u001b[32m54.0/54.0 kB\u001b[0m \u001b[31m3.5 MB/s\u001b[0m eta \u001b[36m0:00:00\u001b[0m\r\n",
      "\u001b[?25hDownloading pfzy-0.3.4-py3-none-any.whl (8.5 kB)\r\n",
      "Building wheels for collected packages: deepspeed, langdetect, trl\r\n",
      "  Building wheel for deepspeed (setup.py) ... \u001b[?25l\u001b[?25hdone\r\n",
      "  Created wheel for deepspeed: filename=deepspeed-0.15.4-py3-none-any.whl size=1527841 sha256=3e64495ee4a48bf1ed3c6a7872d8de95b012991a2f1c5323b52e946703bad842\r\n",
      "  Stored in directory: /root/.cache/pip/wheels/74/bc/b6/836d7c3e3093e25502fa9248e0be9e943db245f2806ba1cd19\r\n",
      "  Building wheel for langdetect (setup.py) ... \u001b[?25l\u001b[?25hdone\r\n",
      "  Created wheel for langdetect: filename=langdetect-1.0.9-py3-none-any.whl size=993222 sha256=a9da0e06d4aa75e15f4aeda90d8538dfb73e71cfe6475a2f73cb157c25e5b4f7\r\n",
      "  Stored in directory: /root/.cache/pip/wheels/95/03/7d/59ea870c70ce4e5a370638b5462a7711ab78fba2f655d05106\r\n",
      "  Building wheel for trl (pyproject.toml) ... \u001b[?25l\u001b[?25hdone\r\n",
      "  Created wheel for trl: filename=trl-0.17.0.dev0-py3-none-any.whl size=342284 sha256=9e83addecd34cd6c9a301324e40340654ba77b5d870b31f6ff6cbc3be62febd4\r\n",
      "  Stored in directory: /root/.cache/pip/wheels/9f/be/36/1eb783228a4f4359109bcd7f72d9bf47ebeec9f33a44127004\r\n",
      "Successfully built deepspeed langdetect trl\r\n",
      "Installing collected packages: hjson, antlr4-python3-runtime, triton, pfzy, langdetect, hf-xet, latex2sympy2_extended, InquirerPy, huggingface-hub, math-verify, liger-kernel, transformers, accelerate, trl, deepspeed, bitsandbytes, open-r1\r\n",
      "  Attempting uninstall: antlr4-python3-runtime\r\n",
      "    Found existing installation: antlr4-python3-runtime 4.9.3\r\n",
      "    Uninstalling antlr4-python3-runtime-4.9.3:\r\n",
      "      Successfully uninstalled antlr4-python3-runtime-4.9.3\r\n",
      "  Attempting uninstall: huggingface-hub\r\n",
      "    Found existing installation: huggingface-hub 0.29.0\r\n",
      "    Uninstalling huggingface-hub-0.29.0:\r\n",
      "      Successfully uninstalled huggingface-hub-0.29.0\r\n",
      "  Attempting uninstall: transformers\r\n",
      "    Found existing installation: transformers 4.47.0\r\n",
      "    Uninstalling transformers-4.47.0:\r\n",
      "      Successfully uninstalled transformers-4.47.0\r\n",
      "  Attempting uninstall: accelerate\r\n",
      "    Found existing installation: accelerate 1.2.1\r\n",
      "    Uninstalling accelerate-1.2.1:\r\n",
      "      Successfully uninstalled accelerate-1.2.1\r\n",
      "  Running setup.py develop for open-r1\r\n",
      "\u001b[31mERROR: pip's dependency resolver does not currently take into account all the packages that are installed. This behaviour is the source of the following dependency conflicts.\r\n",
      "omegaconf 2.3.0 requires antlr4-python3-runtime==4.9.*, but you have antlr4-python3-runtime 4.13.2 which is incompatible.\u001b[0m\u001b[31m\r\n",
      "\u001b[0mSuccessfully installed InquirerPy-0.3.4 accelerate-1.4.0 antlr4-python3-runtime-4.13.2 bitsandbytes-0.45.5 deepspeed-0.15.4 hf-xet-1.0.3 hjson-3.1.0 huggingface-hub-0.30.2 langdetect-1.0.9 latex2sympy2_extended-1.0.6 liger-kernel-0.5.8 math-verify-0.5.2 open-r1-0.1.0.dev0 pfzy-0.3.4 transformers-4.51.2 triton-3.3.0 trl-0.17.0.dev0\r\n",
      "Name: open-r1\r\n",
      "Version: 0.1.0.dev0\r\n",
      "Summary: Open R1\r\n",
      "Home-page: https://github.com/huggingface/open-r1\r\n",
      "Author: The Hugging Face team (past and future)\r\n",
      "Author-email: lewis@huggingface.co\r\n",
      "License: Apache\r\n",
      "Location: /kaggle/working/open-r1/src\r\n",
      "Editable project location: /kaggle/working/open-r1/src\r\n",
      "Requires: accelerate, bitsandbytes, datasets, deepspeed, einops, hf_transfer, huggingface-hub, langdetect, latex2sympy2_extended, liger-kernel, math-verify, packaging, safetensors, sentencepiece, transformers, trl, wandb\r\n",
      "Required-by: \r\n"
     ]
    }
   ],
   "source": [
    "!git clone https://github.com/huggingface/open-r1.git\n",
    "!pip install -e ./open-r1\n",
    "!pip show open-r1"
   ]
  },
  {
   "cell_type": "code",
   "execution_count": 3,
   "id": "b0e6b529",
   "metadata": {
    "_cell_guid": "b7f206d2-971a-4156-a2da-e13c3ec6a849",
    "_uuid": "fe72f3f4-3723-48ec-9cc6-fc79a67f773a",
    "collapsed": false,
    "execution": {
     "iopub.execute_input": "2025-04-14T01:41:51.458533Z",
     "iopub.status.busy": "2025-04-14T01:41:51.458268Z",
     "iopub.status.idle": "2025-04-14T01:41:51.461595Z",
     "shell.execute_reply": "2025-04-14T01:41:51.460990Z"
    },
    "jupyter": {
     "outputs_hidden": false
    },
    "papermill": {
     "duration": 0.0155,
     "end_time": "2025-04-14T01:41:51.462764",
     "exception": false,
     "start_time": "2025-04-14T01:41:51.447264",
     "status": "completed"
    },
    "tags": []
   },
   "outputs": [],
   "source": [
    "import os\n",
    "os.chdir('./open-r1')"
   ]
  },
  {
   "cell_type": "code",
   "execution_count": 4,
   "id": "a2dc164f",
   "metadata": {
    "execution": {
     "iopub.execute_input": "2025-04-14T01:41:51.484471Z",
     "iopub.status.busy": "2025-04-14T01:41:51.484248Z",
     "iopub.status.idle": "2025-04-14T01:41:51.608235Z",
     "shell.execute_reply": "2025-04-14T01:41:51.607058Z"
    },
    "papermill": {
     "duration": 0.13637,
     "end_time": "2025-04-14T01:41:51.609769",
     "exception": false,
     "start_time": "2025-04-14T01:41:51.473399",
     "status": "completed"
    },
    "tags": []
   },
   "outputs": [
    {
     "name": "stdout",
     "output_type": "stream",
     "text": [
      "assets\t logs\t   README.md  scripts\t setup.py  src\r\n",
      "LICENSE  Makefile  recipes    setup.cfg  slurm\t   tests\r\n"
     ]
    }
   ],
   "source": [
    "!ls"
   ]
  },
  {
   "cell_type": "code",
   "execution_count": null,
   "id": "7b3d4714",
   "metadata": {
    "papermill": {
     "duration": 0.010876,
     "end_time": "2025-04-14T01:41:51.631588",
     "exception": false,
     "start_time": "2025-04-14T01:41:51.620712",
     "status": "completed"
    },
    "tags": []
   },
   "outputs": [],
   "source": []
  },
  {
   "cell_type": "code",
   "execution_count": 5,
   "id": "e775c161",
   "metadata": {
    "execution": {
     "iopub.execute_input": "2025-04-14T01:41:51.654808Z",
     "iopub.status.busy": "2025-04-14T01:41:51.654552Z",
     "iopub.status.idle": "2025-04-14T01:51:18.484779Z",
     "shell.execute_reply": "2025-04-14T01:51:18.483760Z"
    },
    "papermill": {
     "duration": 566.843435,
     "end_time": "2025-04-14T01:51:18.486478",
     "exception": false,
     "start_time": "2025-04-14T01:41:51.643043",
     "status": "completed"
    },
    "tags": []
   },
   "outputs": [
    {
     "name": "stdout",
     "output_type": "stream",
     "text": [
      "[2025-04-14 01:41:59,454] [INFO] [real_accelerator.py:219:get_accelerator] Setting ds_accelerator to cuda (auto detect)\r\n",
      "df: /root/.triton/autotune: No such file or directory\r\n",
      "2025-04-14 01:42:04.182740: E external/local_xla/xla/stream_executor/cuda/cuda_fft.cc:485] Unable to register cuFFT factory: Attempting to register factory for plugin cuFFT when one has already been registered\r\n",
      "2025-04-14 01:42:04.434533: E external/local_xla/xla/stream_executor/cuda/cuda_dnn.cc:8454] Unable to register cuDNN factory: Attempting to register factory for plugin cuDNN when one has already been registered\r\n",
      "2025-04-14 01:42:04.502407: E external/local_xla/xla/stream_executor/cuda/cuda_blas.cc:1452] Unable to register cuBLAS factory: Attempting to register factory for plugin cuBLAS when one has already been registered\r\n",
      "W0414 01:42:15.653000 262 torch/distributed/run.py:793] \r\n",
      "W0414 01:42:15.653000 262 torch/distributed/run.py:793] *****************************************\r\n",
      "W0414 01:42:15.653000 262 torch/distributed/run.py:793] Setting OMP_NUM_THREADS environment variable for each process to be 1 in default, to avoid your system being overloaded, please further tune the variable for optimal performance in your application as needed. \r\n",
      "W0414 01:42:15.653000 262 torch/distributed/run.py:793] *****************************************\r\n",
      "2025-04-14 01:42:21.707162: E external/local_xla/xla/stream_executor/cuda/cuda_fft.cc:485] Unable to register cuFFT factory: Attempting to register factory for plugin cuFFT when one has already been registered\r\n",
      "2025-04-14 01:42:21.707236: E external/local_xla/xla/stream_executor/cuda/cuda_fft.cc:485] Unable to register cuFFT factory: Attempting to register factory for plugin cuFFT when one has already been registered\r\n",
      "2025-04-14 01:42:21.729468: E external/local_xla/xla/stream_executor/cuda/cuda_dnn.cc:8454] Unable to register cuDNN factory: Attempting to register factory for plugin cuDNN when one has already been registered\r\n",
      "2025-04-14 01:42:21.729579: E external/local_xla/xla/stream_executor/cuda/cuda_dnn.cc:8454] Unable to register cuDNN factory: Attempting to register factory for plugin cuDNN when one has already been registered\r\n",
      "2025-04-14 01:42:21.737560: E external/local_xla/xla/stream_executor/cuda/cuda_blas.cc:1452] Unable to register cuBLAS factory: Attempting to register factory for plugin cuBLAS when one has already been registered\r\n",
      "2025-04-14 01:42:21.740524: E external/local_xla/xla/stream_executor/cuda/cuda_blas.cc:1452] Unable to register cuBLAS factory: Attempting to register factory for plugin cuBLAS when one has already been registered\r\n",
      "[2025-04-14 01:42:24,311] [INFO] [real_accelerator.py:219:get_accelerator] Setting ds_accelerator to cuda (auto detect)\r\n",
      "[2025-04-14 01:42:24,311] [INFO] [real_accelerator.py:219:get_accelerator] Setting ds_accelerator to cuda (auto detect)\r\n",
      "[2025-04-14 01:42:27,643] [INFO] [comm.py:652:init_distributed] cdb=None\r\n",
      "[2025-04-14 01:42:27,643] [INFO] [comm.py:683:init_distributed] Initializing TorchBackend in DeepSpeed with backend nccl\r\n",
      "[2025-04-14 01:42:27,645] [INFO] [comm.py:652:init_distributed] cdb=None\r\n",
      "README.md: 100%|██████████████████████████████| 66.0/66.0 [00:00<00:00, 283kB/s]\r\n",
      "split_0.parquet: 100%|█████████████████████| 2.32M/2.32M [00:00<00:00, 33.4MB/s]\r\n",
      "Generating train split: 100%|████████| 100/100 [00:00<00:00, 1223.18 examples/s]\r\n",
      "tokenizer_config.json: 100%|███████████████| 1.29k/1.29k [00:00<00:00, 9.60MB/s]\r\n",
      "vocab.json: 100%|██████████████████████████| 2.78M/2.78M [00:00<00:00, 31.4MB/s]\r\n",
      "merges.txt: 100%|██████████████████████████| 1.67M/1.67M [00:00<00:00, 24.0MB/s]\r\n",
      "tokenizer.json: 100%|██████████████████████| 7.03M/7.03M [00:00<00:00, 8.15MB/s]\r\n",
      "config.json: 100%|█████████████████████████████| 661/661 [00:00<00:00, 3.86MB/s]\r\n",
      "model.safetensors: 100%|██████████████████████| 988M/988M [00:03<00:00, 248MB/s]\r\n",
      "[2025-04-14 01:42:35,417] [INFO] [config.py:733:__init__] Config mesh_device None world_size = 2\r\n",
      "[2025-04-14 01:42:35,466] [INFO] [config.py:733:__init__] Config mesh_device None world_size = 2\r\n",
      "[WARNING|logging.py:328] 2025-04-14 01:42:36,130 >> Sliding Window Attention is enabled but not implemented for `sdpa`; unexpected results may be encountered.\r\n",
      "[WARNING|logging.py:328] 2025-04-14 01:42:36,130 >> Sliding Window Attention is enabled but not implemented for `sdpa`; unexpected results may be encountered.\r\n",
      "[2025-04-14 01:42:36,749] [INFO] [partition_parameters.py:348:__exit__] finished initializing model - num_params = 291, num_elems = 0.63B\r\n",
      "generation_config.json: 100%|██████████████████| 138/138 [00:00<00:00, 1.03MB/s]\r\n",
      "Converting train dataset to ChatML: 100%|█| 100/100 [00:00<00:00, 1972.19 exampl\r\n",
      "Applying chat template to train dataset: 100%|█| 100/100 [00:00<00:00, 1845.16 e\r\n",
      "Tokenizing train dataset: 100%|████████| 100/100 [00:01<00:00, 64.58 examples/s]\r\n",
      "Packing train dataset: 100%|████████| 100/100 [00:00<00:00, 15311.03 examples/s]\r\n",
      "[WARNING|trainer.py:783] 2025-04-14 01:42:42,034 >> No label_names provided for model class `PeftModelForCausalLM`. Since `PeftModel` hides base models input arguments, if label_names is not given, label_names can't be set automatically within `Trainer`. Note that empty label_names list will be used instead.\r\n",
      "[WARNING|trainer.py:783] 2025-04-14 01:42:42,107 >> No label_names provided for model class `PeftModelForCausalLM`. Since `PeftModel` hides base models input arguments, if label_names is not given, label_names can't be set automatically within `Trainer`. Note that empty label_names list will be used instead.\r\n",
      "Parameter Offload: Total persistent parameters: 612224 in 217 params\r\n",
      "\u001b[34m\u001b[1mwandb\u001b[0m: \u001b[33mWARNING\u001b[0m The `run_name` is currently set to the same value as `TrainingArguments.output_dir`. If this was not intended, please specify a different run name by setting the `TrainingArguments.run_name` parameter.\r\n",
      "\u001b[34m\u001b[1mwandb\u001b[0m: \u001b[33mWARNING\u001b[0m Path ./wandb/wandb/ wasn't writable, using system temp directory\r\n",
      "\u001b[34m\u001b[1mwandb\u001b[0m: Currently logged in as: \u001b[33mstpeteishii\u001b[0m. Use \u001b[1m`wandb login --relogin`\u001b[0m to force relogin\r\n",
      "\u001b[34m\u001b[1mwandb\u001b[0m: \u001b[33mWARNING\u001b[0m Path ./wandb/wandb/ wasn't writable, using system temp directory.\r\n",
      "\u001b[34m\u001b[1mwandb\u001b[0m: Tracking run with wandb version 0.19.1\r\n",
      "\u001b[34m\u001b[1mwandb\u001b[0m: Run data is saved locally in \u001b[35m\u001b[1m/tmp/wandb/run-20250414_014246-7ipwbysr\u001b[0m\r\n",
      "\u001b[34m\u001b[1mwandb\u001b[0m: Run \u001b[1m`wandb offline`\u001b[0m to turn off syncing.\r\n",
      "\u001b[34m\u001b[1mwandb\u001b[0m: Syncing run \u001b[33mdata/Qwen2-0.5B-math-sft\u001b[0m\r\n",
      "\u001b[34m\u001b[1mwandb\u001b[0m: ⭐️ View project at \u001b[34m\u001b[4mhttps://wandb.ai/stpeteishii/huggingface\u001b[0m\r\n",
      "\u001b[34m\u001b[1mwandb\u001b[0m: 🚀 View run at \u001b[34m\u001b[4mhttps://wandb.ai/stpeteishii/huggingface/runs/7ipwbysr\u001b[0m\r\n",
      "100%|███████████████████████████████████████████| 18/18 [08:23<00:00, 29.03s/it][WARNING|trainer.py:3891] 2025-04-14 01:51:10,743 >>  stage3_gather_16bit_weights_on_model_save=false. Saving the full checkpoint instead, use zero_to_fp32.py to recover weights\r\n",
      "[WARNING|trainer.py:3891] 2025-04-14 01:51:10,743 >>  stage3_gather_16bit_weights_on_model_save=false. Saving the full checkpoint instead, use zero_to_fp32.py to recover weights\r\n",
      "[WARNING|trainer.py:3891] 2025-04-14 01:51:12,444 >>  stage3_gather_16bit_weights_on_model_save=false. Saving the full checkpoint instead, use zero_to_fp32.py to recover weights\r\n",
      "{'train_runtime': 506.064, 'train_samples_per_second': 1.148, 'train_steps_per_second': 0.036, 'train_loss': 1.3873351414998372, 'num_tokens': 589483.0, 'mean_token_accuracy': 0.6622399157947965, 'epoch': 0.99}\r\n",
      "100%|███████████████████████████████████████████| 18/18 [08:25<00:00, 28.06s/it]\r\n",
      "***** train metrics *****\r\n",
      "  total_flos               =     2003GF\r\n",
      "  train_loss               =     1.3873\r\n",
      "  train_runtime            = 0:08:26.06\r\n",
      "  train_samples            =        100\r\n",
      "  train_samples_per_second =      1.148\r\n",
      "  train_steps_per_second   =      0.036\r\n",
      "[WARNING|trainer.py:3891] 2025-04-14 01:51:12,451 >>  stage3_gather_16bit_weights_on_model_save=false. Saving the full checkpoint instead, use zero_to_fp32.py to recover weights\r\n"
     ]
    }
   ],
   "source": [
    "from pathlib import Path\n",
    "\n",
    "config_content = \"\"\"\n",
    "compute_environment: LOCAL_MACHINE\n",
    "debug: false\n",
    "deepspeed_config:\n",
    "  gradient_clipping: 1.0\n",
    "  zero3_init_flag: true\n",
    "  zero_stage: 3\n",
    "distributed_type: DEEPSPEED\n",
    "downcast_bf16: 'no'\n",
    "machine_rank: 0\n",
    "main_training_function: main\n",
    "mixed_precision: bf16\n",
    "num_machines: 1\n",
    "num_processes: 2\n",
    "rdzv_backend: static\n",
    "same_network: true\n",
    "tpu_env: []\n",
    "tpu_use_cluster: false\n",
    "tpu_use_sudo: false\n",
    "use_cpu: false\n",
    "\"\"\"\n",
    "\n",
    "config_path = \"custom_config.yaml\"\n",
    "Path(config_path).write_text(config_content)\n",
    "\n",
    "!accelerate launch --config_file custom_config.yaml src/open_r1/sft.py \\\n",
    "    --model_name_or_path Qwen/Qwen2-0.5B \\\n",
    "    --dataset_name stpete2/openr1-math-part \\\n",
    "    --learning_rate 1.0e-5 \\\n",
    "    --num_train_epochs 1 \\\n",
    "    --packing \\\n",
    "    --max_seq_length 1024 \\\n",
    "    --per_device_train_batch_size 2 \\\n",
    "    --gradient_accumulation_steps 8 \\\n",
    "    --gradient_checkpointing \\\n",
    "    --bf16 \\\n",
    "    --use_peft \\\n",
    "    --lora_alpha 16 \\\n",
    "    --lora_dropout 0.1 \\\n",
    "    --lora_r 8 \\\n",
    "    --output_dir data/Qwen2-0.5B-math-sft"
   ]
  },
  {
   "cell_type": "code",
   "execution_count": null,
   "id": "7d73ee73",
   "metadata": {
    "papermill": {
     "duration": 0.014848,
     "end_time": "2025-04-14T01:51:18.517293",
     "exception": false,
     "start_time": "2025-04-14T01:51:18.502445",
     "status": "completed"
    },
    "tags": []
   },
   "outputs": [],
   "source": []
  },
  {
   "cell_type": "code",
   "execution_count": null,
   "id": "04952347",
   "metadata": {
    "papermill": {
     "duration": 0.014345,
     "end_time": "2025-04-14T01:51:18.546435",
     "exception": false,
     "start_time": "2025-04-14T01:51:18.532090",
     "status": "completed"
    },
    "tags": []
   },
   "outputs": [],
   "source": []
  }
 ],
 "metadata": {
  "kaggle": {
   "accelerator": "nvidiaTeslaT4",
   "dataSources": [],
   "dockerImageVersionId": 30919,
   "isGpuEnabled": true,
   "isInternetEnabled": true,
   "language": "python",
   "sourceType": "notebook"
  },
  "kernelspec": {
   "display_name": "Python 3",
   "language": "python",
   "name": "python3"
  },
  "language_info": {
   "codemirror_mode": {
    "name": "ipython",
    "version": 3
   },
   "file_extension": ".py",
   "mimetype": "text/x-python",
   "name": "python",
   "nbconvert_exporter": "python",
   "pygments_lexer": "ipython3",
   "version": "3.10.12"
  },
  "papermill": {
   "default_parameters": {},
   "duration": 640.694996,
   "end_time": "2025-04-14T01:51:19.380318",
   "environment_variables": {},
   "exception": null,
   "input_path": "__notebook__.ipynb",
   "output_path": "__notebook__.ipynb",
   "parameters": {},
   "start_time": "2025-04-14T01:40:38.685322",
   "version": "2.6.0"
  }
 },
 "nbformat": 4,
 "nbformat_minor": 5
}
